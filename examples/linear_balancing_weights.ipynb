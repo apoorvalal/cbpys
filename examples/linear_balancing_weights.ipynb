{
  "cells": [
    {
      "cell_type": "markdown",
      "metadata": {},
      "source": [
        "# Linear Balancing weights\n",
        "\n",
        "OLS is doubly robust demo [Robins et al 2007, Kline 2011]"
      ]
    },
    {
      "cell_type": "code",
      "execution_count": 1,
      "metadata": {
        "colab": {},
        "colab_type": "code",
        "id": "hzy_rdy7WXyS"
      },
      "outputs": [],
      "source": [
        "import cbpys\n",
        "import numpy as np\n",
        "import pandas as pd\n",
        "import matplotlib.pyplot as plt\n",
        "\n",
        "from sklearn.preprocessing import MinMaxScaler\n"
      ]
    },
    {
      "cell_type": "markdown",
      "metadata": {},
      "source": [
        "This formulation makes it clear that balancing weights can be solved for using only summary data from the target group (i.e. the covariate means for the treatment group for the ATT, or the covariate means for the target population under covariate shift)."
      ]
    },
    {
      "cell_type": "markdown",
      "metadata": {},
      "source": [
        "## Kline's examples\n",
        "\n",
        "'OLS is doubly-robust' result: results consistent for ATT if either outcome $Y^0$ or selection odds $\\frac{\\pi(X)}{1-\\pi(X)}$ linear in X.\n",
        "\n",
        "Replicating examples from [Kline (2011)](https://eml.berkeley.edu/~pkline/papers/OB_reweighting.pdf). Data and code [here](https://eml.berkeley.edu/~pkline/papers/Oaxaca_web.zip)."
      ]
    },
    {
      "cell_type": "code",
      "execution_count": 9,
      "metadata": {},
      "outputs": [
        {
          "name": "stdout",
          "output_type": "stream",
          "text": [
            "DiM: 1794.34\n",
            "Reweighted: 1784.79\n"
          ]
        }
      ],
      "source": [
        "df = pd.read_stata(\"nswre74.dta\")\n",
        "yn, wn = \"re78\", \"treat\"\n",
        "xn = df.columns.drop([yn, wn]).tolist()\n",
        "n = df.shape[0]\n",
        "y, w, X = df[yn].values, df[wn].values, np.c_[np.ones(n), df[xn].values]\n",
        "\n",
        "# control covariate matrix, and target moments\n",
        "X0, X1 = X[w == 0], X[w == 1].mean(axis = 0)\n",
        "# estimate ATT\n",
        "lin_weights = cbpys.lbw(X0, X1)\n",
        "print(f\"DiM: {y[w == 1].mean() - y[w == 0].mean():.2f}\")\n",
        "print(\n",
        "  f\"Reweighted: {y[w == 1].mean() - np.average(y[w == 0], weights=lin_weights):.2f}\"\n",
        ")\n"
      ]
    },
    {
      "cell_type": "markdown",
      "metadata": {},
      "source": [
        "Applying this to experiments makes little difference since imbalances are small and coincidental."
      ]
    },
    {
      "cell_type": "markdown",
      "metadata": {},
      "source": [
        "### observational"
      ]
    },
    {
      "cell_type": "code",
      "execution_count": 11,
      "metadata": {},
      "outputs": [
        {
          "name": "stdout",
          "output_type": "stream",
          "text": [
            "DiM: -635.03\n",
            "Reweighted: 1701.17\n"
          ]
        }
      ],
      "source": [
        "df = pd.read_stata(\"cps3re74.dta\")\n",
        "yn, wn = \"re78\", \"treat\"\n",
        "xn = df.columns.drop([yn, wn]).tolist()\n",
        "n = df.shape[0]\n",
        "y, w, X = df[yn].values, df[wn].values, np.c_[np.ones(n), df[xn].values]\n",
        "\n",
        "# control covariate matrix, and target moments\n",
        "X0, X1 = X[w == 0], X[w == 1].mean(axis = 0)\n",
        "\n",
        "lin_weights = cbpys.lbw(X0, X1)\n",
        "print(f\"DiM: {y[w == 1].mean() - y[w == 0].mean():.2f}\")\n",
        "print(\n",
        "  f\"Reweighted: {y[w == 1].mean() - np.average(y[w == 0], weights=lin_weights):.2f}\"\n",
        ")\n"
      ]
    },
    {
      "cell_type": "markdown",
      "metadata": {},
      "source": [
        "CPS3 has 'mild' selection bias [Smith and Todd (2005)], so we can get close to experimental estimates with reweighting alone."
      ]
    },
    {
      "cell_type": "code",
      "execution_count": 12,
      "metadata": {},
      "outputs": [
        {
          "name": "stdout",
          "output_type": "stream",
          "text": [
            "DiM: = -15204.775555988717\n",
            "DiM: -15204.78\n",
            "Reweighted: 687.82\n"
          ]
        }
      ],
      "source": [
        "df = pd.read_csv(\"lalonde_psid.csv\")\n",
        "yn, wn = \"re78\", \"treat\"\n",
        "xn = df.columns.drop([yn, wn]).tolist()\n",
        "n = df.shape[0]\n",
        "y, w, X = df[yn].values, df[wn].values, np.c_[np.ones(n), df[xn].values]\n",
        "# control covariate matrix, and target moments\n",
        "X0, X1 = X[w == 0], X[w == 1].mean(axis = 0)\n",
        "\n",
        "lin_weights = cbpys.lbw(X0, X1)\n",
        "print(f\"DiM: {y[w == 1].mean() - y[w == 0].mean():.2f}\")\n",
        "print(\n",
        "  f\"Reweighted: {y[w == 1].mean() - np.average(y[w == 0], weights=lin_weights):.2f}\"\n",
        ")"
      ]
    },
    {
      "cell_type": "markdown",
      "metadata": {},
      "source": [
        "PSID has worse selection bias, so it is harder to undo with reweighting alone."
      ]
    }
  ],
  "metadata": {
    "colab": {
      "collapsed_sections": [],
      "last_runtime": {
        "build_target": "//research/colab/notebook:notebook_backend",
        "kind": "private"
      },
      "name": "kang_schafer_population_mean.ipynb",
      "provenance": [],
      "version": "0.3.2"
    },
    "kernelspec": {
      "display_name": "metrics",
      "language": "python",
      "name": "python3"
    },
    "language_info": {
      "codemirror_mode": {
        "name": "ipython",
        "version": 3
      },
      "file_extension": ".py",
      "mimetype": "text/x-python",
      "name": "python",
      "nbconvert_exporter": "python",
      "pygments_lexer": "ipython3",
      "version": "3.11.7"
    }
  },
  "nbformat": 4,
  "nbformat_minor": 0
}
