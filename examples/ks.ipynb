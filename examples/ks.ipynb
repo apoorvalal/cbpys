{
 "cells": [
  {
   "cell_type": "markdown",
   "metadata": {},
   "source": [
    "# Applications to Kang-Schafer (2007) DGP"
   ]
  },
  {
   "cell_type": "code",
   "execution_count": 1,
   "metadata": {},
   "outputs": [],
   "source": [
    "import cbpys\n",
    "import numpy as np\n",
    "import pandas as pd\n",
    "import matplotlib.pyplot as plt\n",
    "\n",
    "from sklearn.preprocessing import MinMaxScaler"
   ]
  },
  {
   "cell_type": "code",
   "execution_count": 2,
   "metadata": {},
   "outputs": [
    {
     "data": {
      "text/html": [
       "<div>\n",
       "<style scoped>\n",
       "    .dataframe tbody tr th:only-of-type {\n",
       "        vertical-align: middle;\n",
       "    }\n",
       "\n",
       "    .dataframe tbody tr th {\n",
       "        vertical-align: top;\n",
       "    }\n",
       "\n",
       "    .dataframe thead th {\n",
       "        text-align: right;\n",
       "    }\n",
       "</style>\n",
       "<table border=\"1\" class=\"dataframe\">\n",
       "  <thead>\n",
       "    <tr style=\"text-align: right;\">\n",
       "      <th></th>\n",
       "      <th>treatment</th>\n",
       "      <th>z1</th>\n",
       "      <th>z2</th>\n",
       "      <th>z3</th>\n",
       "      <th>z4</th>\n",
       "      <th>x1</th>\n",
       "      <th>x2</th>\n",
       "      <th>x3</th>\n",
       "      <th>x4</th>\n",
       "      <th>outcome</th>\n",
       "    </tr>\n",
       "  </thead>\n",
       "  <tbody>\n",
       "    <tr>\n",
       "      <th>0</th>\n",
       "      <td>0.0</td>\n",
       "      <td>-1.085631</td>\n",
       "      <td>0.997345</td>\n",
       "      <td>0.282978</td>\n",
       "      <td>-1.506295</td>\n",
       "      <td>0.581110</td>\n",
       "      <td>10.745574</td>\n",
       "      <td>0.202998</td>\n",
       "      <td>379.901059</td>\n",
       "      <td>177.341925</td>\n",
       "    </tr>\n",
       "    <tr>\n",
       "      <th>1</th>\n",
       "      <td>1.0</td>\n",
       "      <td>-0.578600</td>\n",
       "      <td>1.651437</td>\n",
       "      <td>-2.426679</td>\n",
       "      <td>-0.428913</td>\n",
       "      <td>0.748787</td>\n",
       "      <td>11.058150</td>\n",
       "      <td>0.282511</td>\n",
       "      <td>450.395521</td>\n",
       "      <td>176.791594</td>\n",
       "    </tr>\n",
       "    <tr>\n",
       "      <th>2</th>\n",
       "      <td>1.0</td>\n",
       "      <td>1.265936</td>\n",
       "      <td>-0.866740</td>\n",
       "      <td>-0.678886</td>\n",
       "      <td>-0.094709</td>\n",
       "      <td>1.883192</td>\n",
       "      <td>9.809357</td>\n",
       "      <td>0.180959</td>\n",
       "      <td>362.466410</td>\n",
       "      <td>223.496512</td>\n",
       "    </tr>\n",
       "    <tr>\n",
       "      <th>3</th>\n",
       "      <td>0.0</td>\n",
       "      <td>1.491390</td>\n",
       "      <td>-0.638902</td>\n",
       "      <td>-0.443982</td>\n",
       "      <td>-0.434351</td>\n",
       "      <td>2.107906</td>\n",
       "      <td>9.882625</td>\n",
       "      <td>0.188639</td>\n",
       "      <td>358.221742</td>\n",
       "      <td>229.586755</td>\n",
       "    </tr>\n",
       "    <tr>\n",
       "      <th>4</th>\n",
       "      <td>1.0</td>\n",
       "      <td>2.205930</td>\n",
       "      <td>2.186786</td>\n",
       "      <td>1.004054</td>\n",
       "      <td>0.386186</td>\n",
       "      <td>3.013087</td>\n",
       "      <td>10.216971</td>\n",
       "      <td>0.326506</td>\n",
       "      <td>509.539087</td>\n",
       "      <td>320.157576</td>\n",
       "    </tr>\n",
       "  </tbody>\n",
       "</table>\n",
       "</div>"
      ],
      "text/plain": [
       "   treatment        z1        z2        z3        z4        x1         x2  \\\n",
       "0        0.0 -1.085631  0.997345  0.282978 -1.506295  0.581110  10.745574   \n",
       "1        1.0 -0.578600  1.651437 -2.426679 -0.428913  0.748787  11.058150   \n",
       "2        1.0  1.265936 -0.866740 -0.678886 -0.094709  1.883192   9.809357   \n",
       "3        0.0  1.491390 -0.638902 -0.443982 -0.434351  2.107906   9.882625   \n",
       "4        1.0  2.205930  2.186786  1.004054  0.386186  3.013087  10.216971   \n",
       "\n",
       "         x3          x4     outcome  \n",
       "0  0.202998  379.901059  177.341925  \n",
       "1  0.282511  450.395521  176.791594  \n",
       "2  0.180959  362.466410  223.496512  \n",
       "3  0.188639  358.221742  229.586755  \n",
       "4  0.326506  509.539087  320.157576  "
      ]
     },
     "execution_count": 2,
     "metadata": {},
     "output_type": "execute_result"
    }
   ],
   "source": [
    "np.random.seed(123)\n",
    "simulation = cbpys.kang_schafer(size=2000)\n",
    "df = pd.DataFrame(\n",
    "    np.column_stack([\n",
    "        simulation.treatment, simulation.covariates,\n",
    "        simulation.transformed_covariates, simulation.outcome\n",
    "    ]))\n",
    "df.columns = [\n",
    "    \"treatment\", \"z1\", \"z2\", \"z3\", \"z4\", \"x1\", \"x2\", \"x3\", \"x4\", \"outcome\"\n",
    "]\n",
    "df.head()"
   ]
  },
  {
   "cell_type": "code",
   "execution_count": 3,
   "metadata": {},
   "outputs": [
    {
     "data": {
      "text/html": [
       "<div>\n",
       "<style scoped>\n",
       "    .dataframe tbody tr th:only-of-type {\n",
       "        vertical-align: middle;\n",
       "    }\n",
       "\n",
       "    .dataframe tbody tr th {\n",
       "        vertical-align: top;\n",
       "    }\n",
       "\n",
       "    .dataframe thead th {\n",
       "        text-align: right;\n",
       "    }\n",
       "</style>\n",
       "<table border=\"1\" class=\"dataframe\">\n",
       "  <thead>\n",
       "    <tr style=\"text-align: right;\">\n",
       "      <th>treatment</th>\n",
       "      <th>0.0</th>\n",
       "      <th>1.0</th>\n",
       "    </tr>\n",
       "  </thead>\n",
       "  <tbody>\n",
       "    <tr>\n",
       "      <th>x1</th>\n",
       "      <td>1.339729</td>\n",
       "      <td>0.907298</td>\n",
       "    </tr>\n",
       "    <tr>\n",
       "      <th>x2</th>\n",
       "      <td>9.897616</td>\n",
       "      <td>10.123162</td>\n",
       "    </tr>\n",
       "    <tr>\n",
       "      <th>x3</th>\n",
       "      <td>0.220736</td>\n",
       "      <td>0.220331</td>\n",
       "    </tr>\n",
       "    <tr>\n",
       "      <th>x4</th>\n",
       "      <td>395.051555</td>\n",
       "      <td>410.947713</td>\n",
       "    </tr>\n",
       "    <tr>\n",
       "      <th>outcome</th>\n",
       "      <td>219.997301</td>\n",
       "      <td>200.567004</td>\n",
       "    </tr>\n",
       "  </tbody>\n",
       "</table>\n",
       "</div>"
      ],
      "text/plain": [
       "treatment         0.0         1.0\n",
       "x1           1.339729    0.907298\n",
       "x2           9.897616   10.123162\n",
       "x3           0.220736    0.220331\n",
       "x4         395.051555  410.947713\n",
       "outcome    219.997301  200.567004"
      ]
     },
     "execution_count": 3,
     "metadata": {},
     "output_type": "execute_result"
    }
   ],
   "source": [
    "w = df[\"treatment\"].values\n",
    "# select x columns\n",
    "xn = df.filter(regex=\"^x\", axis=1).columns\n",
    "xyn = list(xn) + ['outcome']\n",
    "df.groupby(\"treatment\")[xyn].mean().T"
   ]
  },
  {
   "cell_type": "markdown",
   "metadata": {},
   "source": [
    "## mean balancing"
   ]
  },
  {
   "cell_type": "code",
   "execution_count": 4,
   "metadata": {},
   "outputs": [
    {
     "name": "stderr",
     "output_type": "stream",
     "text": [
      "Optimizing CBPS...: 100%|██████████| 10000/10000 [00:03<00:00, 2741.39it/s]\n"
     ]
    },
    {
     "data": {
      "text/html": [
       "<div>\n",
       "<style scoped>\n",
       "    .dataframe tbody tr th:only-of-type {\n",
       "        vertical-align: middle;\n",
       "    }\n",
       "\n",
       "    .dataframe tbody tr th {\n",
       "        vertical-align: top;\n",
       "    }\n",
       "\n",
       "    .dataframe thead th {\n",
       "        text-align: right;\n",
       "    }\n",
       "</style>\n",
       "<table border=\"1\" class=\"dataframe\">\n",
       "  <thead>\n",
       "    <tr style=\"text-align: right;\">\n",
       "      <th></th>\n",
       "      <th>wtd_control</th>\n",
       "      <th>treatment</th>\n",
       "    </tr>\n",
       "  </thead>\n",
       "  <tbody>\n",
       "    <tr>\n",
       "      <th>x1</th>\n",
       "      <td>0.902776</td>\n",
       "      <td>0.907298</td>\n",
       "    </tr>\n",
       "    <tr>\n",
       "      <th>x2</th>\n",
       "      <td>10.059992</td>\n",
       "      <td>10.123162</td>\n",
       "    </tr>\n",
       "    <tr>\n",
       "      <th>x3</th>\n",
       "      <td>0.218641</td>\n",
       "      <td>0.220331</td>\n",
       "    </tr>\n",
       "    <tr>\n",
       "      <th>x4</th>\n",
       "      <td>407.504300</td>\n",
       "      <td>410.947713</td>\n",
       "    </tr>\n",
       "    <tr>\n",
       "      <th>outcome</th>\n",
       "      <td>203.444293</td>\n",
       "      <td>200.567004</td>\n",
       "    </tr>\n",
       "  </tbody>\n",
       "</table>\n",
       "</div>"
      ],
      "text/plain": [
       "         wtd_control   treatment\n",
       "x1          0.902776    0.907298\n",
       "x2         10.059992   10.123162\n",
       "x3          0.218641    0.220331\n",
       "x4        407.504300  410.947713\n",
       "outcome   203.444293  200.567004"
      ]
     },
     "execution_count": 4,
     "metadata": {},
     "output_type": "execute_result"
    }
   ],
   "source": [
    "normalised_x = df[xn].values\n",
    "X_ = normalised_x\n",
    "\n",
    "cbps = cbpys.CBPS(\n",
    "    X=X_,\n",
    "    W=w,\n",
    "    estimand=\"ATT\",\n",
    "    intercept=True,\n",
    "    noi=False,\n",
    "    niter=10000,\n",
    "    svd=None,\n",
    ")\n",
    "weights = cbps.weights(numpy=True)\n",
    "\n",
    "pd.DataFrame(np.c_[\n",
    "  np.average(df.query(\"treatment == 0\")[xyn].values, weights=weights, axis=0),\n",
    "  df.query(\"treatment == 1\")[xyn].mean().values,\n",
    "], index = xyn, columns=[\"wtd_control\", \"treatment\"])"
   ]
  },
  {
   "cell_type": "markdown",
   "metadata": {},
   "source": [
    "Way lower bias."
   ]
  },
  {
   "cell_type": "markdown",
   "metadata": {},
   "source": [
    "## approx kernel balancing"
   ]
  },
  {
   "cell_type": "code",
   "execution_count": 5,
   "metadata": {},
   "outputs": [],
   "source": [
    "import sklearn.kernel_approximation as ska"
   ]
  },
  {
   "cell_type": "code",
   "execution_count": 6,
   "metadata": {},
   "outputs": [
    {
     "name": "stderr",
     "output_type": "stream",
     "text": [
      "Optimizing CBPS...: 100%|██████████| 10000/10000 [00:06<00:00, 1504.18it/s]\n"
     ]
    },
    {
     "data": {
      "text/html": [
       "<div>\n",
       "<style scoped>\n",
       "    .dataframe tbody tr th:only-of-type {\n",
       "        vertical-align: middle;\n",
       "    }\n",
       "\n",
       "    .dataframe tbody tr th {\n",
       "        vertical-align: top;\n",
       "    }\n",
       "\n",
       "    .dataframe thead th {\n",
       "        text-align: right;\n",
       "    }\n",
       "</style>\n",
       "<table border=\"1\" class=\"dataframe\">\n",
       "  <thead>\n",
       "    <tr style=\"text-align: right;\">\n",
       "      <th></th>\n",
       "      <th>wtd_control</th>\n",
       "      <th>treatment</th>\n",
       "    </tr>\n",
       "  </thead>\n",
       "  <tbody>\n",
       "    <tr>\n",
       "      <th>x1</th>\n",
       "      <td>1.000327</td>\n",
       "      <td>0.907298</td>\n",
       "    </tr>\n",
       "    <tr>\n",
       "      <th>x2</th>\n",
       "      <td>10.103600</td>\n",
       "      <td>10.123162</td>\n",
       "    </tr>\n",
       "    <tr>\n",
       "      <th>x3</th>\n",
       "      <td>0.220024</td>\n",
       "      <td>0.220331</td>\n",
       "    </tr>\n",
       "    <tr>\n",
       "      <th>x4</th>\n",
       "      <td>410.403746</td>\n",
       "      <td>410.947713</td>\n",
       "    </tr>\n",
       "    <tr>\n",
       "      <th>outcome</th>\n",
       "      <td>207.684499</td>\n",
       "      <td>200.567004</td>\n",
       "    </tr>\n",
       "  </tbody>\n",
       "</table>\n",
       "</div>"
      ],
      "text/plain": [
       "         wtd_control   treatment\n",
       "x1          1.000327    0.907298\n",
       "x2         10.103600   10.123162\n",
       "x3          0.220024    0.220331\n",
       "x4        410.403746  410.947713\n",
       "outcome   207.684499  200.567004"
      ]
     },
     "execution_count": 6,
     "metadata": {},
     "output_type": "execute_result"
    }
   ],
   "source": [
    "normalised_x = (df[xn].values - df[xn].values.mean(axis=0)) / df[xn].values.std(axis=0)\n",
    "\n",
    "X_ = ska.RBFSampler(random_state=42, n_components=500).fit_transform(\n",
    "    normalised_x\n",
    ")\n",
    "\n",
    "cbps = cbpys.CBPS(\n",
    "    X=X_,\n",
    "    W=w,\n",
    "    estimand=\"ATT\",\n",
    "    intercept=True,\n",
    "    noi=False,\n",
    "    niter=10_000,\n",
    "    reg = 0.001,\n",
    "    scheduler=True,\n",
    ")\n",
    "weights = cbps.weights(numpy=True)\n",
    "\n",
    "pd.DataFrame(np.c_[\n",
    "  np.average(df.query(\"treatment == 0\")[xyn].values, weights=weights, axis=0),\n",
    "  df.query(\"treatment == 1\")[xyn].mean().values,\n",
    "], index = xyn, columns=[\"wtd_control\", \"treatment\"])"
   ]
  },
  {
   "cell_type": "markdown",
   "metadata": {},
   "source": [
    "Worse bias than the mean balancing case."
   ]
  },
  {
   "cell_type": "code",
   "execution_count": 7,
   "metadata": {},
   "outputs": [
    {
     "data": {
      "text/plain": [
       "<Axes: xlabel='Iterations', ylabel='Learning Rate'>"
      ]
     },
     "execution_count": 7,
     "metadata": {},
     "output_type": "execute_result"
    },
    {
     "data": {
      "image/png": "[encoded data removed]",
      "text/plain": [
       "<Figure size 1200x600 with 2 Axes>"
      ]
     },
     "metadata": {},
     "output_type": "display_data"
    }
   ],
   "source": [
    "f, ax = plt.subplots(1, 2, figsize=(12, 6))\n",
    "cbps.diagnose_loss(ax = ax[0], logscale=False)\n",
    "cbps.diagnose_loss(ax = ax[1], only_lr=True)"
   ]
  },
  {
   "cell_type": "markdown",
   "metadata": {},
   "source": [
    "### full kernel balancing"
   ]
  },
  {
   "cell_type": "code",
   "execution_count": 12,
   "metadata": {},
   "outputs": [
    {
     "name": "stderr",
     "output_type": "stream",
     "text": [
      "Optimizing CBPS...: 100%|██████████| 10000/10000 [00:12<00:00, 774.71it/s]\n"
     ]
    }
   ],
   "source": [
    "# centered and scaled X\n",
    "normalised_x = (df[xn].values - df[xn].values.mean(axis=0)) / df[xn].values.std(axis=0)\n",
    "from sklearn.metrics.pairwise import pairwise_kernels\n",
    "X_= pairwise_kernels(normalised_x, metric=\"rbf\", n_jobs=-1)\n",
    "\n",
    "cbps = cbpys.CBPS(\n",
    "    X=X_,\n",
    "    W=w,\n",
    "    estimand=\"ATT\",\n",
    "    intercept=True,\n",
    "    noi=False,\n",
    "    niter=10_000,\n",
    "    reg = 0.001,\n",
    "    scheduler=True,\n",
    ")\n",
    "weights = cbps.weights(numpy=True)"
   ]
  },
  {
   "cell_type": "code",
   "execution_count": 13,
   "metadata": {},
   "outputs": [
    {
     "data": {
      "text/html": [
       "<div>\n",
       "<style scoped>\n",
       "    .dataframe tbody tr th:only-of-type {\n",
       "        vertical-align: middle;\n",
       "    }\n",
       "\n",
       "    .dataframe tbody tr th {\n",
       "        vertical-align: top;\n",
       "    }\n",
       "\n",
       "    .dataframe thead th {\n",
       "        text-align: right;\n",
       "    }\n",
       "</style>\n",
       "<table border=\"1\" class=\"dataframe\">\n",
       "  <thead>\n",
       "    <tr style=\"text-align: right;\">\n",
       "      <th></th>\n",
       "      <th>wtd_control</th>\n",
       "      <th>treatment</th>\n",
       "    </tr>\n",
       "  </thead>\n",
       "  <tbody>\n",
       "    <tr>\n",
       "      <th>x1</th>\n",
       "      <td>0.917185</td>\n",
       "      <td>0.907298</td>\n",
       "    </tr>\n",
       "    <tr>\n",
       "      <th>x2</th>\n",
       "      <td>10.123920</td>\n",
       "      <td>10.123162</td>\n",
       "    </tr>\n",
       "    <tr>\n",
       "      <th>x3</th>\n",
       "      <td>0.219171</td>\n",
       "      <td>0.220331</td>\n",
       "    </tr>\n",
       "    <tr>\n",
       "      <th>x4</th>\n",
       "      <td>411.236349</td>\n",
       "      <td>410.947713</td>\n",
       "    </tr>\n",
       "    <tr>\n",
       "      <th>outcome</th>\n",
       "      <td>203.123085</td>\n",
       "      <td>200.567004</td>\n",
       "    </tr>\n",
       "  </tbody>\n",
       "</table>\n",
       "</div>"
      ],
      "text/plain": [
       "         wtd_control   treatment\n",
       "x1          0.917185    0.907298\n",
       "x2         10.123920   10.123162\n",
       "x3          0.219171    0.220331\n",
       "x4        411.236349  410.947713\n",
       "outcome   203.123085  200.567004"
      ]
     },
     "execution_count": 13,
     "metadata": {},
     "output_type": "execute_result"
    }
   ],
   "source": [
    "pd.DataFrame(np.c_[\n",
    "  np.average(df.query(\"treatment == 0\")[xyn].values, weights=weights, axis=0),\n",
    "  df.query(\"treatment == 1\")[xyn].mean().values,\n",
    "], index = xyn, columns=[\"wtd_control\", \"treatment\"])"
   ]
  }
 ],
 "metadata": {
  "kernelspec": {
   "display_name": ".venv",
   "language": "python",
   "name": "python3"
  },
  "language_info": {
   "codemirror_mode": {
    "name": "ipython",
    "version": 3
   },
   "file_extension": ".py",
   "mimetype": "text/x-python",
   "name": "python",
   "nbconvert_exporter": "python",
   "pygments_lexer": "ipython3",
   "version": "3.11.5"
  }
 },
 "nbformat": 4,
 "nbformat_minor": 2
}
