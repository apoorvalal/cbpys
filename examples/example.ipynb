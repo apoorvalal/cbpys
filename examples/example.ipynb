{
 "cells": [
  {
   "cell_type": "code",
   "execution_count": 1,
   "metadata": {},
   "outputs": [],
   "source": [
    "%load_ext autoreload\n",
    "%autoreload 2"
   ]
  },
  {
   "cell_type": "markdown",
   "metadata": {},
   "source": [
    "# Simple example CBPS using Lalonde"
   ]
  },
  {
   "cell_type": "code",
   "execution_count": 3,
   "metadata": {},
   "outputs": [],
   "source": [
    "import sys\n",
    "sys.path.append('..')\n",
    "from src.cbps_torch import CBPS\n",
    "import numpy as np\n",
    "import pandas as pd\n",
    "import matplotlib.pyplot as plt\n",
    "\n",
    "from sklearn.preprocessing import MinMaxScaler"
   ]
  },
  {
   "cell_type": "code",
   "execution_count": 4,
   "metadata": {},
   "outputs": [
    {
     "data": {
      "text/html": [
       "<div>\n",
       "<style scoped>\n",
       "    .dataframe tbody tr th:only-of-type {\n",
       "        vertical-align: middle;\n",
       "    }\n",
       "\n",
       "    .dataframe tbody tr th {\n",
       "        vertical-align: top;\n",
       "    }\n",
       "\n",
       "    .dataframe thead th {\n",
       "        text-align: right;\n",
       "    }\n",
       "</style>\n",
       "<table border=\"1\" class=\"dataframe\">\n",
       "  <thead>\n",
       "    <tr style=\"text-align: right;\">\n",
       "      <th></th>\n",
       "      <th>age</th>\n",
       "      <th>education</th>\n",
       "      <th>black</th>\n",
       "      <th>hispanic</th>\n",
       "      <th>married</th>\n",
       "      <th>nodegree</th>\n",
       "      <th>re74</th>\n",
       "      <th>re75</th>\n",
       "      <th>re78</th>\n",
       "      <th>u74</th>\n",
       "      <th>u75</th>\n",
       "      <th>treat</th>\n",
       "    </tr>\n",
       "  </thead>\n",
       "  <tbody>\n",
       "    <tr>\n",
       "      <th>0</th>\n",
       "      <td>37</td>\n",
       "      <td>11</td>\n",
       "      <td>1</td>\n",
       "      <td>0</td>\n",
       "      <td>1</td>\n",
       "      <td>1</td>\n",
       "      <td>0.0</td>\n",
       "      <td>0.0</td>\n",
       "      <td>9930.05</td>\n",
       "      <td>1</td>\n",
       "      <td>1</td>\n",
       "      <td>1</td>\n",
       "    </tr>\n",
       "    <tr>\n",
       "      <th>1</th>\n",
       "      <td>22</td>\n",
       "      <td>9</td>\n",
       "      <td>0</td>\n",
       "      <td>1</td>\n",
       "      <td>0</td>\n",
       "      <td>1</td>\n",
       "      <td>0.0</td>\n",
       "      <td>0.0</td>\n",
       "      <td>3595.89</td>\n",
       "      <td>1</td>\n",
       "      <td>1</td>\n",
       "      <td>1</td>\n",
       "    </tr>\n",
       "    <tr>\n",
       "      <th>2</th>\n",
       "      <td>30</td>\n",
       "      <td>12</td>\n",
       "      <td>1</td>\n",
       "      <td>0</td>\n",
       "      <td>0</td>\n",
       "      <td>0</td>\n",
       "      <td>0.0</td>\n",
       "      <td>0.0</td>\n",
       "      <td>24909.50</td>\n",
       "      <td>1</td>\n",
       "      <td>1</td>\n",
       "      <td>1</td>\n",
       "    </tr>\n",
       "    <tr>\n",
       "      <th>3</th>\n",
       "      <td>27</td>\n",
       "      <td>11</td>\n",
       "      <td>1</td>\n",
       "      <td>0</td>\n",
       "      <td>0</td>\n",
       "      <td>1</td>\n",
       "      <td>0.0</td>\n",
       "      <td>0.0</td>\n",
       "      <td>7506.15</td>\n",
       "      <td>1</td>\n",
       "      <td>1</td>\n",
       "      <td>1</td>\n",
       "    </tr>\n",
       "    <tr>\n",
       "      <th>4</th>\n",
       "      <td>33</td>\n",
       "      <td>8</td>\n",
       "      <td>1</td>\n",
       "      <td>0</td>\n",
       "      <td>0</td>\n",
       "      <td>1</td>\n",
       "      <td>0.0</td>\n",
       "      <td>0.0</td>\n",
       "      <td>289.79</td>\n",
       "      <td>1</td>\n",
       "      <td>1</td>\n",
       "      <td>1</td>\n",
       "    </tr>\n",
       "  </tbody>\n",
       "</table>\n",
       "</div>"
      ],
      "text/plain": [
       "   age  education  black  hispanic  married  nodegree  re74  re75      re78  \\\n",
       "0   37         11      1         0        1         1   0.0   0.0   9930.05   \n",
       "1   22          9      0         1        0         1   0.0   0.0   3595.89   \n",
       "2   30         12      1         0        0         0   0.0   0.0  24909.50   \n",
       "3   27         11      1         0        0         1   0.0   0.0   7506.15   \n",
       "4   33          8      1         0        0         1   0.0   0.0    289.79   \n",
       "\n",
       "   u74  u75  treat  \n",
       "0    1    1      1  \n",
       "1    1    1      1  \n",
       "2    1    1      1  \n",
       "3    1    1      1  \n",
       "4    1    1      1  "
      ]
     },
     "execution_count": 4,
     "metadata": {},
     "output_type": "execute_result"
    }
   ],
   "source": [
    "# Read lalonde data\n",
    "df = pd.read_csv(\"../data/lalonde_psid.csv\")\n",
    "df.head()"
   ]
  },
  {
   "cell_type": "code",
   "execution_count": 5,
   "metadata": {},
   "outputs": [],
   "source": [
    "w, y = df.treat.values, df.re78.values\n",
    "X = df.drop(columns=[\"treat\", \"re78\"]).values\n",
    "X = MinMaxScaler().fit_transform(X)"
   ]
  },
  {
   "cell_type": "code",
   "execution_count": 6,
   "metadata": {},
   "outputs": [
    {
     "name": "stdout",
     "output_type": "stream",
     "text": [
      " Our effect benchmark is given by: -15204.775555988717\n"
     ]
    }
   ],
   "source": [
    "print(f\" Our effect benchmark is given by: {y[w == 1].mean() - y[w == 0].mean()}\")"
   ]
  },
  {
   "cell_type": "markdown",
   "metadata": {},
   "source": [
    "## Experiments with dimensionality reduction and playing with other parameters"
   ]
  },
  {
   "cell_type": "code",
   "execution_count": 57,
   "metadata": {},
   "outputs": [
    {
     "name": "stderr",
     "output_type": "stream",
     "text": [
      "Optimizing CBPS...: 100%|██████████| 10000/10000 [00:02<00:00, 3401.83it/s]\n",
      "Optimizing CBPS...: 100%|██████████| 10000/10000 [00:02<00:00, 3370.88it/s]\n",
      "Optimizing CBPS...: 100%|██████████| 10000/10000 [00:02<00:00, 3422.65it/s]\n",
      "Optimizing CBPS...: 100%|██████████| 10000/10000 [00:02<00:00, 3462.54it/s]\n",
      "Optimizing CBPS...: 100%|██████████| 10000/10000 [00:02<00:00, 3341.72it/s]\n",
      "Optimizing CBPS...: 100%|██████████| 10000/10000 [00:02<00:00, 3451.56it/s]\n",
      "Optimizing CBPS...: 100%|██████████| 10000/10000 [00:02<00:00, 3337.40it/s]\n",
      "Optimizing CBPS...: 100%|██████████| 10000/10000 [00:02<00:00, 3488.17it/s]\n",
      "Optimizing CBPS...: 100%|██████████| 10000/10000 [00:02<00:00, 3500.08it/s]\n",
      "Optimizing CBPS...: 100%|██████████| 10000/10000 [00:03<00:00, 3268.52it/s]\n",
      "Optimizing CBPS...: 100%|██████████| 10000/10000 [00:02<00:00, 3390.15it/s]\n",
      "Optimizing CBPS...: 100%|██████████| 10000/10000 [00:02<00:00, 3449.70it/s]\n",
      "Optimizing CBPS...: 100%|██████████| 10000/10000 [00:02<00:00, 3505.95it/s]\n",
      "Optimizing CBPS...: 100%|██████████| 10000/10000 [00:02<00:00, 3348.00it/s]\n",
      "Optimizing CBPS...: 100%|██████████| 10000/10000 [00:03<00:00, 3308.65it/s]\n",
      "Optimizing CBPS...: 100%|██████████| 10000/10000 [00:02<00:00, 3436.82it/s]\n",
      "Optimizing CBPS...: 100%|██████████| 10000/10000 [00:02<00:00, 3413.09it/s]\n",
      "Optimizing CBPS...: 100%|██████████| 10000/10000 [00:03<00:00, 3308.40it/s]\n",
      "Optimizing CBPS...: 100%|██████████| 10000/10000 [00:02<00:00, 3405.87it/s]\n",
      "Optimizing CBPS...: 100%|██████████| 10000/10000 [00:03<00:00, 3315.02it/s]\n",
      "Optimizing CBPS...: 100%|██████████| 10000/10000 [00:02<00:00, 3375.89it/s]\n",
      "Optimizing CBPS...: 100%|██████████| 10000/10000 [00:03<00:00, 3319.06it/s]\n",
      "Optimizing CBPS...: 100%|██████████| 10000/10000 [00:03<00:00, 3289.38it/s]\n",
      "Optimizing CBPS...: 100%|██████████| 10000/10000 [00:03<00:00, 3196.69it/s]\n",
      "Optimizing CBPS...: 100%|██████████| 10000/10000 [00:03<00:00, 3306.00it/s]\n",
      "Optimizing CBPS...: 100%|██████████| 10000/10000 [00:02<00:00, 3534.45it/s]\n",
      "Optimizing CBPS...: 100%|██████████| 10000/10000 [00:02<00:00, 3352.19it/s]\n",
      "Optimizing CBPS...: 100%|██████████| 10000/10000 [00:03<00:00, 3330.43it/s]\n",
      "Optimizing CBPS...: 100%|██████████| 10000/10000 [00:02<00:00, 3383.91it/s]\n",
      "Optimizing CBPS...: 100%|██████████| 10000/10000 [00:02<00:00, 3429.29it/s]\n",
      "Optimizing CBPS...: 100%|██████████| 10000/10000 [00:02<00:00, 3506.94it/s]\n",
      "Optimizing CBPS...: 100%|██████████| 10000/10000 [00:03<00:00, 3281.42it/s]\n",
      "Optimizing CBPS...: 100%|██████████| 10000/10000 [00:02<00:00, 3522.82it/s]\n",
      "Optimizing CBPS...: 100%|██████████| 10000/10000 [00:02<00:00, 3413.07it/s]\n",
      "Optimizing CBPS...: 100%|██████████| 10000/10000 [00:03<00:00, 3210.87it/s]\n",
      "Optimizing CBPS...: 100%|██████████| 10000/10000 [00:02<00:00, 3350.56it/s]\n",
      "Optimizing CBPS...: 100%|██████████| 10000/10000 [00:02<00:00, 3400.90it/s]\n",
      "Optimizing CBPS...: 100%|██████████| 10000/10000 [00:02<00:00, 3371.14it/s]\n",
      "Optimizing CBPS...: 100%|██████████| 10000/10000 [00:03<00:00, 3311.67it/s]\n",
      "Optimizing CBPS...: 100%|██████████| 10000/10000 [00:02<00:00, 3390.03it/s]\n",
      "Optimizing CBPS...: 100%|██████████| 10000/10000 [00:02<00:00, 3396.49it/s]\n",
      "Optimizing CBPS...: 100%|██████████| 10000/10000 [00:03<00:00, 3127.44it/s]\n",
      "Optimizing CBPS...: 100%|██████████| 10000/10000 [00:02<00:00, 3366.41it/s]\n",
      "Optimizing CBPS...: 100%|██████████| 10000/10000 [00:03<00:00, 3192.62it/s]\n",
      "Optimizing CBPS...: 100%|██████████| 10000/10000 [00:03<00:00, 3174.53it/s]\n",
      "Optimizing CBPS...: 100%|██████████| 10000/10000 [00:03<00:00, 3238.08it/s]\n",
      "Optimizing CBPS...: 100%|██████████| 10000/10000 [00:02<00:00, 3366.29it/s]\n",
      "Optimizing CBPS...: 100%|██████████| 10000/10000 [00:03<00:00, 3320.85it/s]\n",
      "Optimizing CBPS...: 100%|██████████| 10000/10000 [00:02<00:00, 3412.39it/s]\n",
      "Optimizing CBPS...: 100%|██████████| 10000/10000 [00:02<00:00, 3356.23it/s]\n",
      "Optimizing CBPS...: 100%|██████████| 10000/10000 [00:02<00:00, 3377.99it/s]\n",
      "Optimizing CBPS...: 100%|██████████| 10000/10000 [00:03<00:00, 3252.53it/s]\n",
      "Optimizing CBPS...: 100%|██████████| 10000/10000 [00:03<00:00, 3250.18it/s]\n",
      "Optimizing CBPS...: 100%|██████████| 10000/10000 [00:03<00:00, 3206.51it/s]\n",
      "Optimizing CBPS...: 100%|██████████| 10000/10000 [00:02<00:00, 3411.96it/s]\n",
      "Optimizing CBPS...: 100%|██████████| 10000/10000 [00:02<00:00, 3441.34it/s]\n",
      "Optimizing CBPS...: 100%|██████████| 10000/10000 [00:02<00:00, 3451.32it/s]\n",
      "Optimizing CBPS...: 100%|██████████| 10000/10000 [00:02<00:00, 3346.22it/s]\n",
      "Optimizing CBPS...: 100%|██████████| 10000/10000 [00:02<00:00, 3412.50it/s]\n",
      "Optimizing CBPS...: 100%|██████████| 10000/10000 [00:02<00:00, 3440.75it/s]\n",
      "Optimizing CBPS...: 100%|██████████| 10000/10000 [00:02<00:00, 3490.81it/s]\n",
      "Optimizing CBPS...: 100%|██████████| 10000/10000 [00:03<00:00, 3287.36it/s]\n",
      "Optimizing CBPS...: 100%|██████████| 10000/10000 [00:02<00:00, 3454.60it/s]\n",
      "Optimizing CBPS...: 100%|██████████| 10000/10000 [00:03<00:00, 3264.82it/s]\n",
      "Optimizing CBPS...: 100%|██████████| 10000/10000 [00:03<00:00, 3220.59it/s]\n",
      "Optimizing CBPS...: 100%|██████████| 10000/10000 [00:02<00:00, 3419.81it/s]\n",
      "Optimizing CBPS...: 100%|██████████| 10000/10000 [00:02<00:00, 3385.31it/s]\n",
      "Optimizing CBPS...: 100%|██████████| 10000/10000 [00:02<00:00, 3403.00it/s]\n",
      "Optimizing CBPS...: 100%|██████████| 10000/10000 [00:02<00:00, 3397.37it/s]\n",
      "Optimizing CBPS...: 100%|██████████| 10000/10000 [00:02<00:00, 3460.98it/s]\n",
      "Optimizing CBPS...: 100%|██████████| 10000/10000 [00:03<00:00, 3180.56it/s]\n",
      "Optimizing CBPS...: 100%|██████████| 10000/10000 [00:02<00:00, 3429.19it/s]\n",
      "Optimizing CBPS...: 100%|██████████| 10000/10000 [00:02<00:00, 3431.82it/s]\n",
      "Optimizing CBPS...: 100%|██████████| 10000/10000 [00:02<00:00, 3341.93it/s]\n",
      "Optimizing CBPS...: 100%|██████████| 10000/10000 [00:02<00:00, 3348.59it/s]\n",
      "Optimizing CBPS...: 100%|██████████| 10000/10000 [00:02<00:00, 3401.33it/s]\n",
      "Optimizing CBPS...: 100%|██████████| 10000/10000 [00:02<00:00, 3355.19it/s]\n",
      "Optimizing CBPS...: 100%|██████████| 10000/10000 [00:03<00:00, 3253.35it/s]\n",
      "Optimizing CBPS...: 100%|██████████| 10000/10000 [00:03<00:00, 3328.85it/s]\n",
      "Optimizing CBPS...: 100%|██████████| 10000/10000 [00:02<00:00, 3416.84it/s]\n",
      "Optimizing CBPS...: 100%|██████████| 10000/10000 [00:02<00:00, 3402.28it/s]\n",
      "Optimizing CBPS...: 100%|██████████| 10000/10000 [00:03<00:00, 3299.05it/s]\n",
      "Optimizing CBPS...: 100%|██████████| 10000/10000 [00:03<00:00, 3272.31it/s]\n",
      "Optimizing CBPS...: 100%|██████████| 10000/10000 [00:02<00:00, 3483.86it/s]\n",
      "Optimizing CBPS...: 100%|██████████| 10000/10000 [00:02<00:00, 3391.86it/s]\n",
      "Optimizing CBPS...: 100%|██████████| 10000/10000 [00:02<00:00, 3450.12it/s]\n",
      "Optimizing CBPS...: 100%|██████████| 10000/10000 [00:02<00:00, 3443.48it/s]\n",
      "Optimizing CBPS...: 100%|██████████| 10000/10000 [00:02<00:00, 3371.33it/s]\n",
      "Optimizing CBPS...: 100%|██████████| 10000/10000 [00:02<00:00, 3363.12it/s]\n",
      "Optimizing CBPS...: 100%|██████████| 10000/10000 [00:02<00:00, 3432.74it/s]\n",
      "Optimizing CBPS...: 100%|██████████| 10000/10000 [00:03<00:00, 3331.67it/s]\n",
      "Optimizing CBPS...: 100%|██████████| 10000/10000 [00:02<00:00, 3367.31it/s]\n",
      "Optimizing CBPS...: 100%|██████████| 10000/10000 [00:03<00:00, 3322.90it/s]\n",
      "Optimizing CBPS...: 100%|██████████| 10000/10000 [00:03<00:00, 3256.31it/s]\n",
      "Optimizing CBPS...: 100%|██████████| 10000/10000 [00:03<00:00, 3258.58it/s]\n",
      "Optimizing CBPS...: 100%|██████████| 10000/10000 [00:03<00:00, 3259.77it/s]\n",
      "Optimizing CBPS...: 100%|██████████| 10000/10000 [00:02<00:00, 3350.89it/s]\n",
      "Optimizing CBPS...: 100%|██████████| 10000/10000 [00:02<00:00, 3378.95it/s]\n",
      "Optimizing CBPS...: 100%|██████████| 10000/10000 [00:02<00:00, 3363.89it/s]\n",
      "Optimizing CBPS...: 100%|██████████| 10000/10000 [00:02<00:00, 3372.55it/s]\n"
     ]
    }
   ],
   "source": [
    "list_tau = []\n",
    "for _ in range(100):\n",
    "        cbps = CBPS(X = X,\n",
    "                W = w,\n",
    "                estimand=\"ATT\",\n",
    "                intercept=True,\n",
    "                noi=False,\n",
    "                niter=10000,\n",
    "                lr=1e-2,\n",
    "                reg=None,\n",
    "                svd=5\n",
    "        )\n",
    "        weights = cbps.weights()\n",
    "        tau = y[w == 1].mean() - np.average(y[w == 0], weights=weights.data.cpu().numpy())\n",
    "        list_tau.append(tau)"
   ]
  },
  {
   "cell_type": "code",
   "execution_count": 60,
   "metadata": {},
   "outputs": [
    {
     "data": {
      "text/plain": [
       "(array([ 1.,  0.,  0.,  0.,  0.,  0.,  0.,  1.,  1., 97.]),\n",
       " array([1061.69138621, 1125.97899953, 1190.26661286, 1254.55422619,\n",
       "        1318.84183951, 1383.12945284, 1447.41706617, 1511.70467949,\n",
       "        1575.99229282, 1640.27990614, 1704.56751947]),\n",
       " <BarContainer object of 10 artists>)"
      ]
     },
     "execution_count": 60,
     "metadata": {},
     "output_type": "execute_result"
    },
    {
     "data": {
      "image/png": "[encoded data removed]",
      "text/plain": [
       "<Figure size 640x480 with 1 Axes>"
      ]
     },
     "metadata": {},
     "output_type": "display_data"
    }
   ],
   "source": [
    "plt.hist(np.array(list_tau))"
   ]
  },
  {
   "cell_type": "code",
   "execution_count": 61,
   "metadata": {},
   "outputs": [
    {
     "name": "stderr",
     "output_type": "stream",
     "text": [
      "Optimizing CBPS...: 100%|██████████| 10000/10000 [00:03<00:00, 3261.06it/s]\n",
      "Optimizing CBPS...: 100%|██████████| 10000/10000 [00:03<00:00, 3303.94it/s]\n",
      "Optimizing CBPS...: 100%|██████████| 10000/10000 [00:02<00:00, 3381.92it/s]\n",
      "Optimizing CBPS...: 100%|██████████| 10000/10000 [00:03<00:00, 3302.83it/s]\n",
      "Optimizing CBPS...: 100%|██████████| 10000/10000 [00:03<00:00, 3202.24it/s]\n",
      "Optimizing CBPS...: 100%|██████████| 10000/10000 [00:02<00:00, 3435.85it/s]\n",
      "Optimizing CBPS...: 100%|██████████| 10000/10000 [00:03<00:00, 3249.75it/s]\n",
      "Optimizing CBPS...: 100%|██████████| 10000/10000 [00:02<00:00, 3344.53it/s]\n",
      "Optimizing CBPS...: 100%|██████████| 10000/10000 [00:03<00:00, 3147.66it/s]\n",
      "Optimizing CBPS...: 100%|██████████| 10000/10000 [00:02<00:00, 3416.96it/s]\n",
      "Optimizing CBPS...: 100%|██████████| 10000/10000 [00:03<00:00, 3304.61it/s]\n",
      "Optimizing CBPS...: 100%|██████████| 10000/10000 [00:03<00:00, 3217.55it/s]\n",
      "Optimizing CBPS...: 100%|██████████| 10000/10000 [00:02<00:00, 3371.33it/s]\n",
      "Optimizing CBPS...: 100%|██████████| 10000/10000 [00:02<00:00, 3391.93it/s]\n",
      "Optimizing CBPS...: 100%|██████████| 10000/10000 [00:03<00:00, 3333.18it/s]\n",
      "Optimizing CBPS...: 100%|██████████| 10000/10000 [00:03<00:00, 3312.85it/s]\n",
      "Optimizing CBPS...: 100%|██████████| 10000/10000 [00:03<00:00, 3185.11it/s]\n",
      "Optimizing CBPS...: 100%|██████████| 10000/10000 [00:03<00:00, 3085.93it/s]\n",
      "Optimizing CBPS...: 100%|██████████| 10000/10000 [00:03<00:00, 3224.67it/s]\n",
      "Optimizing CBPS...: 100%|██████████| 10000/10000 [00:03<00:00, 3285.45it/s]\n",
      "Optimizing CBPS...: 100%|██████████| 10000/10000 [00:03<00:00, 3200.11it/s]\n",
      "Optimizing CBPS...: 100%|██████████| 10000/10000 [00:03<00:00, 3207.90it/s]\n",
      "Optimizing CBPS...: 100%|██████████| 10000/10000 [00:03<00:00, 3277.17it/s]\n",
      "Optimizing CBPS...: 100%|██████████| 10000/10000 [00:03<00:00, 3281.64it/s]\n",
      "Optimizing CBPS...: 100%|██████████| 10000/10000 [00:03<00:00, 3187.31it/s]\n",
      "Optimizing CBPS...: 100%|██████████| 10000/10000 [00:03<00:00, 3283.44it/s]\n",
      "Optimizing CBPS...: 100%|██████████| 10000/10000 [00:03<00:00, 3275.18it/s]\n",
      "Optimizing CBPS...: 100%|██████████| 10000/10000 [00:02<00:00, 3346.77it/s]\n",
      "Optimizing CBPS...: 100%|██████████| 10000/10000 [00:03<00:00, 3190.94it/s]\n",
      "Optimizing CBPS...: 100%|██████████| 10000/10000 [00:03<00:00, 3256.63it/s]\n",
      "Optimizing CBPS...: 100%|██████████| 10000/10000 [00:02<00:00, 3384.38it/s]\n",
      "Optimizing CBPS...: 100%|██████████| 10000/10000 [00:03<00:00, 3073.58it/s]\n",
      "Optimizing CBPS...: 100%|██████████| 10000/10000 [00:03<00:00, 3237.88it/s]\n",
      "Optimizing CBPS...: 100%|██████████| 10000/10000 [00:03<00:00, 3180.20it/s]\n",
      "Optimizing CBPS...: 100%|██████████| 10000/10000 [00:03<00:00, 3020.38it/s]\n",
      "Optimizing CBPS...: 100%|██████████| 10000/10000 [00:03<00:00, 3289.45it/s]\n",
      "Optimizing CBPS...: 100%|██████████| 10000/10000 [00:03<00:00, 3311.89it/s]\n",
      "Optimizing CBPS...: 100%|██████████| 10000/10000 [00:02<00:00, 3338.68it/s]\n",
      "Optimizing CBPS...: 100%|██████████| 10000/10000 [00:02<00:00, 3350.20it/s]\n",
      "Optimizing CBPS...: 100%|██████████| 10000/10000 [00:02<00:00, 3484.75it/s]\n",
      "Optimizing CBPS...: 100%|██████████| 10000/10000 [00:02<00:00, 3387.40it/s]\n",
      "Optimizing CBPS...: 100%|██████████| 10000/10000 [00:02<00:00, 3434.59it/s]\n",
      "Optimizing CBPS...: 100%|██████████| 10000/10000 [00:03<00:00, 3265.13it/s]\n",
      "Optimizing CBPS...: 100%|██████████| 10000/10000 [00:02<00:00, 3342.86it/s]\n",
      "Optimizing CBPS...: 100%|██████████| 10000/10000 [00:02<00:00, 3336.03it/s]\n",
      "Optimizing CBPS...: 100%|██████████| 10000/10000 [00:02<00:00, 3451.89it/s]\n",
      "Optimizing CBPS...: 100%|██████████| 10000/10000 [00:03<00:00, 3231.12it/s]\n",
      "Optimizing CBPS...: 100%|██████████| 10000/10000 [00:03<00:00, 3319.09it/s]\n",
      "Optimizing CBPS...: 100%|██████████| 10000/10000 [00:02<00:00, 3345.58it/s]\n",
      "Optimizing CBPS...: 100%|██████████| 10000/10000 [00:02<00:00, 3368.58it/s]\n",
      "Optimizing CBPS...: 100%|██████████| 10000/10000 [00:03<00:00, 3327.05it/s]\n",
      "Optimizing CBPS...: 100%|██████████| 10000/10000 [00:02<00:00, 3334.40it/s]\n",
      "Optimizing CBPS...: 100%|██████████| 10000/10000 [00:03<00:00, 3271.11it/s]\n",
      "Optimizing CBPS...: 100%|██████████| 10000/10000 [00:02<00:00, 3393.85it/s]\n",
      "Optimizing CBPS...: 100%|██████████| 10000/10000 [00:03<00:00, 3230.19it/s]\n",
      "Optimizing CBPS...: 100%|██████████| 10000/10000 [00:02<00:00, 3347.10it/s]\n",
      "Optimizing CBPS...: 100%|██████████| 10000/10000 [00:02<00:00, 3397.61it/s]\n",
      "Optimizing CBPS...: 100%|██████████| 10000/10000 [00:02<00:00, 3373.32it/s]\n",
      "Optimizing CBPS...: 100%|██████████| 10000/10000 [00:03<00:00, 3212.93it/s]\n",
      "Optimizing CBPS...: 100%|██████████| 10000/10000 [00:03<00:00, 3310.32it/s]\n",
      "Optimizing CBPS...: 100%|██████████| 10000/10000 [00:02<00:00, 3456.23it/s]\n",
      "Optimizing CBPS...: 100%|██████████| 10000/10000 [00:03<00:00, 3268.96it/s]\n",
      "Optimizing CBPS...: 100%|██████████| 10000/10000 [00:02<00:00, 3378.12it/s]\n",
      "Optimizing CBPS...: 100%|██████████| 10000/10000 [00:03<00:00, 3226.27it/s]\n",
      "Optimizing CBPS...: 100%|██████████| 10000/10000 [00:03<00:00, 3137.87it/s]\n",
      "Optimizing CBPS...: 100%|██████████| 10000/10000 [00:03<00:00, 3211.89it/s]\n",
      "Optimizing CBPS...: 100%|██████████| 10000/10000 [00:03<00:00, 3245.82it/s]\n",
      "Optimizing CBPS...: 100%|██████████| 10000/10000 [00:03<00:00, 3123.41it/s]\n",
      "Optimizing CBPS...: 100%|██████████| 10000/10000 [00:03<00:00, 3228.22it/s]\n",
      "Optimizing CBPS...: 100%|██████████| 10000/10000 [00:02<00:00, 3381.81it/s]\n",
      "Optimizing CBPS...: 100%|██████████| 10000/10000 [00:03<00:00, 3216.95it/s]\n",
      "Optimizing CBPS...: 100%|██████████| 10000/10000 [00:03<00:00, 3258.81it/s]\n",
      "Optimizing CBPS...: 100%|██████████| 10000/10000 [00:03<00:00, 3297.92it/s]\n",
      "Optimizing CBPS...: 100%|██████████| 10000/10000 [00:02<00:00, 3370.53it/s]\n",
      "Optimizing CBPS...: 100%|██████████| 10000/10000 [00:03<00:00, 3301.10it/s]\n",
      "Optimizing CBPS...: 100%|██████████| 10000/10000 [00:03<00:00, 3136.33it/s]\n",
      "Optimizing CBPS...: 100%|██████████| 10000/10000 [00:03<00:00, 3308.57it/s]\n",
      "Optimizing CBPS...: 100%|██████████| 10000/10000 [00:03<00:00, 3261.42it/s]\n",
      "Optimizing CBPS...: 100%|██████████| 10000/10000 [00:03<00:00, 3183.70it/s]\n",
      "Optimizing CBPS...: 100%|██████████| 10000/10000 [00:02<00:00, 3349.52it/s]\n",
      "Optimizing CBPS...: 100%|██████████| 10000/10000 [00:03<00:00, 3307.77it/s]\n",
      "Optimizing CBPS...: 100%|██████████| 10000/10000 [00:03<00:00, 3278.32it/s]\n",
      "Optimizing CBPS...: 100%|██████████| 10000/10000 [00:03<00:00, 3322.29it/s]\n",
      "Optimizing CBPS...: 100%|██████████| 10000/10000 [00:03<00:00, 3274.11it/s]\n",
      "Optimizing CBPS...: 100%|██████████| 10000/10000 [00:02<00:00, 3426.40it/s]\n",
      "Optimizing CBPS...: 100%|██████████| 10000/10000 [00:03<00:00, 3329.69it/s]\n",
      "Optimizing CBPS...: 100%|██████████| 10000/10000 [00:03<00:00, 3182.52it/s]\n",
      "Optimizing CBPS...: 100%|██████████| 10000/10000 [00:02<00:00, 3380.83it/s]\n",
      "Optimizing CBPS...: 100%|██████████| 10000/10000 [00:03<00:00, 3322.17it/s]\n",
      "Optimizing CBPS...: 100%|██████████| 10000/10000 [00:02<00:00, 3345.46it/s]\n",
      "Optimizing CBPS...: 100%|██████████| 10000/10000 [00:02<00:00, 3465.41it/s]\n",
      "Optimizing CBPS...: 100%|██████████| 10000/10000 [00:03<00:00, 3116.17it/s]\n",
      "Optimizing CBPS...: 100%|██████████| 10000/10000 [00:03<00:00, 3245.70it/s]\n",
      "Optimizing CBPS...: 100%|██████████| 10000/10000 [00:03<00:00, 3242.63it/s]\n",
      "Optimizing CBPS...: 100%|██████████| 10000/10000 [00:03<00:00, 3230.07it/s]\n",
      "Optimizing CBPS...: 100%|██████████| 10000/10000 [00:03<00:00, 3275.60it/s]\n",
      "Optimizing CBPS...: 100%|██████████| 10000/10000 [00:03<00:00, 3064.82it/s]\n",
      "Optimizing CBPS...: 100%|██████████| 10000/10000 [00:02<00:00, 3420.69it/s]\n",
      "Optimizing CBPS...: 100%|██████████| 10000/10000 [00:02<00:00, 3358.53it/s]\n",
      "Optimizing CBPS...: 100%|██████████| 10000/10000 [00:03<00:00, 3125.92it/s]\n"
     ]
    }
   ],
   "source": [
    "list_tau = []\n",
    "for _ in range(100):\n",
    "        cbps = CBPS(X = X,\n",
    "                W = w,\n",
    "                estimand=\"ATT\",\n",
    "                intercept=True,\n",
    "                noi=False,\n",
    "                niter=10000,\n",
    "                lr=1e-2\n",
    "        )\n",
    "        weights = cbps.weights()\n",
    "        tau = y[w == 1].mean() - np.average(y[w == 0], weights=weights.data.cpu().numpy())\n",
    "        list_tau.append(tau)"
   ]
  },
  {
   "cell_type": "code",
   "execution_count": 62,
   "metadata": {},
   "outputs": [
    {
     "data": {
      "text/plain": [
       "(array([ 1.,  0.,  0.,  2.,  0.,  0.,  5.,  3.,  8., 81.]),\n",
       " array([1430.19719308, 1532.04672647, 1633.89625986, 1735.74579324,\n",
       "        1837.59532663, 1939.44486002, 2041.2943934 , 2143.14392679,\n",
       "        2244.99346018, 2346.84299356, 2448.69252695]),\n",
       " <BarContainer object of 10 artists>)"
      ]
     },
     "execution_count": 62,
     "metadata": {},
     "output_type": "execute_result"
    },
    {
     "data": {
      "image/png": "[encoded data removed]",
      "text/plain": [
       "<Figure size 640x480 with 1 Axes>"
      ]
     },
     "metadata": {},
     "output_type": "display_data"
    }
   ],
   "source": [
    "plt.hist(np.array(list_tau))"
   ]
  },
  {
   "cell_type": "code",
   "execution_count": null,
   "metadata": {},
   "outputs": [],
   "source": []
  }
 ],
 "metadata": {
  "kernelspec": {
   "display_name": "cbps",
   "language": "python",
   "name": "python3"
  },
  "language_info": {
   "codemirror_mode": {
    "name": "ipython",
    "version": 3
   },
   "file_extension": ".py",
   "mimetype": "text/x-python",
   "name": "python",
   "nbconvert_exporter": "python",
   "pygments_lexer": "ipython3",
   "version": "3.10.13"
  }
 },
 "nbformat": 4,
 "nbformat_minor": 2
}
